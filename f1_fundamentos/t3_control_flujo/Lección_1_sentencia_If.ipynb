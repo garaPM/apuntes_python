{
  "nbformat": 4,
  "nbformat_minor": 0,
  "metadata": {
    "kernelspec": {
      "display_name": "Python 3",
      "language": "python",
      "name": "python3"
    },
    "language_info": {
      "codemirror_mode": {
        "name": "ipython",
        "version": 3
      },
      "file_extension": ".py",
      "mimetype": "text/x-python",
      "name": "python",
      "nbconvert_exporter": "python",
      "pygments_lexer": "ipython3",
      "version": "3.5.1"
    },
    "colab": {
      "name": "Lección 2 - Sentencia If.ipynb",
      "provenance": [],
      "include_colab_link": true
    }
  },
  "cells": [
    {
      "cell_type": "markdown",
      "metadata": {
        "id": "view-in-github",
        "colab_type": "text"
      },
      "source": [
        "<a href=\"https://colab.research.google.com/github/garaPM/apuntes_python/blob/main/Lecci%C3%B3n_4_Sentencia_If.ipynb\" target=\"_parent\"><img src=\"https://colab.research.google.com/assets/colab-badge.svg\" alt=\"Open In Colab\"/></a>"
      ]
    },
    {
      "cell_type": "markdown",
      "metadata": {
        "id": "QLia7kz1sewX"
      },
      "source": [
        "# Condicional IF\n",
        "\n",
        "\n"
      ]
    },
    {
      "cell_type": "code",
      "metadata": {
        "id": "inwKO2QRsd0p",
        "outputId": "3b2f30ec-b977-4460-db84-4b06b7b54edc",
        "colab": {
          "base_uri": "https://localhost:8080/",
          "height": 35
        }
      },
      "source": [
        "if 2 < 5:\n",
        "  print(\"el 2 menor que 5\")"
      ],
      "execution_count": 1,
      "outputs": [
        {
          "output_type": "stream",
          "text": [
            "el 2 menor que 5\n"
          ],
          "name": "stdout"
        }
      ]
    },
    {
      "cell_type": "markdown",
      "metadata": {
        "id": "_UMBZJBnuNlg"
      },
      "source": [
        "Se puede evaluar de las siguientes maneras\n",
        "\n",
        "1. `==` para igual\n",
        "2. `<` indica que es menor que\n",
        "3. `>` indica que es mayor que\n",
        "4. `!=` indica si es distinto que\n",
        "5. `<=` indica que es menor o igual que\n",
        "6. `>=` indica que es mayor o igual que\n"
      ]
    },
    {
      "cell_type": "code",
      "metadata": {
        "id": "PPqpPdJZuD6S",
        "outputId": "c5b2bc48-c514-42ed-d530-28ea53187ec0",
        "colab": {
          "base_uri": "https://localhost:8080/",
          "height": 35
        }
      },
      "source": [
        "if 2 == 2:\n",
        "  print('2 es igual a 2')\n",
        "  \n",
        "if 2 == 3:\n",
        "  print('2 es igual a 2')"
      ],
      "execution_count": 3,
      "outputs": [
        {
          "output_type": "stream",
          "text": [
            "2 es igual a 2\n"
          ],
          "name": "stdout"
        }
      ]
    },
    {
      "cell_type": "code",
      "metadata": {
        "id": "bLGni2csvEs-",
        "outputId": "b5feb3cc-3c5c-4cb9-ab22-fa9f69a9ba1a",
        "colab": {
          "base_uri": "https://localhost:8080/",
          "height": 35
        }
      },
      "source": [
        "if 2 > 5:\n",
        "  print('2 es mayor a 5')\n",
        "\n",
        "if 5 > 2:\n",
        "  print('5 es mayor a 2')"
      ],
      "execution_count": 4,
      "outputs": [
        {
          "output_type": "stream",
          "text": [
            "5 es mayor a 2\n"
          ],
          "name": "stdout"
        }
      ]
    },
    {
      "cell_type": "code",
      "metadata": {
        "id": "SdfwUED-vb0_",
        "outputId": "afb6fbd1-dee5-480f-8a56-f9552db93277",
        "colab": {
          "base_uri": "https://localhost:8080/",
          "height": 35
        }
      },
      "source": [
        "if 2 != 2:\n",
        "  print('2 es distinto a 2')\n",
        "\n",
        "if 2 != 3:\n",
        "  print('2 es distinto a 3')"
      ],
      "execution_count": 5,
      "outputs": [
        {
          "output_type": "stream",
          "text": [
            "2 es distinto a 3\n"
          ],
          "name": "stdout"
        }
      ]
    },
    {
      "cell_type": "code",
      "metadata": {
        "id": "_-GuEGcSvrcH",
        "outputId": "b05a2671-11ac-4ba2-948e-68a90f5c0484",
        "colab": {
          "base_uri": "https://localhost:8080/",
          "height": 35
        }
      },
      "source": [
        "if 3 <= 3:\n",
        "  print('3 es menor o igual a 3')\n",
        "\n",
        "if 3 <= 2:\n",
        "  print('3 es menor o igual a 2')"
      ],
      "execution_count": 6,
      "outputs": [
        {
          "output_type": "stream",
          "text": [
            "3 es menor o igual a 3\n"
          ],
          "name": "stdout"
        }
      ]
    },
    {
      "cell_type": "markdown",
      "metadata": {
        "id": "PFkUzWyPwNAc"
      },
      "source": [
        "## Palabras reservadas\n",
        "\n",
        "- if\n",
        "- elif\n",
        "- else"
      ]
    },
    {
      "cell_type": "code",
      "metadata": {
        "id": "SOCqVyaYwIPn",
        "outputId": "cbb7f81a-70db-4128-81d7-6bc469b2a0f0",
        "colab": {
          "base_uri": "https://localhost:8080/",
          "height": 35
        }
      },
      "source": [
        "if 2 > 5:\n",
        "  print('2 es mayor a 5')\n",
        "elif 2 < 5:\n",
        "  print('2 es menor a 5 en elif')\n",
        "elif 2 < 3:\n",
        "  print('2 es menor que 3')\n",
        "else:\n",
        "  print('imprimo como ultimo recurso')"
      ],
      "execution_count": 9,
      "outputs": [
        {
          "output_type": "stream",
          "text": [
            "2 es menor a 5 en elif\n"
          ],
          "name": "stdout"
        }
      ]
    },
    {
      "cell_type": "code",
      "metadata": {
        "id": "9_p7dp2ZwuDt",
        "outputId": "c2f59d82-3b37-4eae-982a-9ba5810c6a7f",
        "colab": {
          "base_uri": "https://localhost:8080/",
          "height": 35
        }
      },
      "source": [
        "if 2 > 5:\n",
        "  print('2 es mayor a 5')\n",
        "else:\n",
        "  print('imprimo como ultimo si todo es falso')"
      ],
      "execution_count": 11,
      "outputs": [
        {
          "output_type": "stream",
          "text": [
            "imprimo como ultimo si todo es falso\n"
          ],
          "name": "stdout"
        }
      ]
    },
    {
      "cell_type": "markdown",
      "metadata": {
        "id": "IHoAabxemDDl"
      },
      "source": [
        "## If Ternarios\n",
        "\n",
        "Son if de una sola linea son más cortos"
      ]
    },
    {
      "cell_type": "code",
      "metadata": {
        "id": "19DNEvfuxgRd",
        "outputId": "95879d19-08ee-4154-9926-c5399d571b06",
        "colab": {
          "base_uri": "https://localhost:8080/",
          "height": 35
        }
      },
      "source": [
        "if 2 < 5: print('if de una linea')"
      ],
      "execution_count": 1,
      "outputs": [
        {
          "output_type": "stream",
          "text": [
            "if de una linea\n"
          ],
          "name": "stdout"
        }
      ]
    },
    {
      "cell_type": "markdown",
      "metadata": {
        "id": "f99va6a5m4iO"
      },
      "source": [
        "Se le llama a esto como operardor ternario ya que puede combinar dos opciones de una misma linea. El cual arrojara un true en caso que se cumpla la condición."
      ]
    },
    {
      "cell_type": "code",
      "metadata": {
        "id": "XwpM-XdOmbXO",
        "outputId": "6244e8fc-6052-4b73-d8bf-2d94a88cb062",
        "colab": {
          "base_uri": "https://localhost:8080/",
          "height": 35
        }
      },
      "source": [
        "print('cuando devuelve true') if 5 > 2 else print('cuando falso')"
      ],
      "execution_count": 2,
      "outputs": [
        {
          "output_type": "stream",
          "text": [
            "cuando devuelve true\n"
          ],
          "name": "stdout"
        }
      ]
    },
    {
      "cell_type": "code",
      "metadata": {
        "id": "yTDglMvLmsuK"
      },
      "source": [
        "print('cuando devuelve true') if 5 > 2 else print('cuando falso')"
      ],
      "execution_count": null,
      "outputs": []
    }
  ]
}