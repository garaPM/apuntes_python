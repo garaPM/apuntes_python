{
  "nbformat": 4,
  "nbformat_minor": 0,
  "metadata": {
    "kernelspec": {
      "display_name": "Python 3",
      "language": "python",
      "name": "python3"
    },
    "language_info": {
      "codemirror_mode": {
        "name": "ipython",
        "version": 3
      },
      "file_extension": ".py",
      "mimetype": "text/x-python",
      "name": "python",
      "nbconvert_exporter": "python",
      "pygments_lexer": "ipython3",
      "version": "3.5.1"
    },
    "colab": {
      "name": "Lección 3 - Listas.ipynb",
      "provenance": [],
      "include_colab_link": true
    }
  },
  "cells": [
    {
      "cell_type": "markdown",
      "metadata": {
        "id": "view-in-github",
        "colab_type": "text"
      },
      "source": [
        "<a href=\"https://colab.research.google.com/github/garaPM/apuntes_python/blob/main/Lecci%C3%B3n_3_Listas.ipynb\" target=\"_parent\"><img src=\"https://colab.research.google.com/assets/colab-badge.svg\" alt=\"Open In Colab\"/></a>"
      ]
    },
    {
      "cell_type": "markdown",
      "metadata": {
        "id": "_hGDfuPl-nSs"
      },
      "source": [
        "# Listas\n",
        "\n",
        "Coleccion de dato"
      ]
    },
    {
      "cell_type": "code",
      "metadata": {
        "id": "j2pjBgil-keu",
        "outputId": "9241ba1b-7de8-4e5a-ae56-c65cb6b3a116",
        "colab": {
          "base_uri": "https://localhost:8080/",
          "height": 35
        }
      },
      "source": [
        "lista = []\n",
        "lista"
      ],
      "execution_count": 3,
      "outputs": [
        {
          "output_type": "execute_result",
          "data": {
            "text/plain": [
              "[]"
            ]
          },
          "metadata": {
            "tags": []
          },
          "execution_count": 3
        }
      ]
    },
    {
      "cell_type": "code",
      "metadata": {
        "id": "22_upMfY-_-A",
        "outputId": "23c936a0-a78d-40d4-a5b0-9013ebaf479d",
        "colab": {
          "base_uri": "https://localhost:8080/",
          "height": 35
        }
      },
      "source": [
        "lista = [1,2,3]\n",
        "lista"
      ],
      "execution_count": 4,
      "outputs": [
        {
          "output_type": "execute_result",
          "data": {
            "text/plain": [
              "[1, 2, 3]"
            ]
          },
          "metadata": {
            "tags": []
          },
          "execution_count": 4
        }
      ]
    },
    {
      "cell_type": "code",
      "metadata": {
        "id": "isrs3hFT_KRY",
        "outputId": "9aca6969-c6fa-4d8e-e257-0b53063ca106",
        "colab": {
          "base_uri": "https://localhost:8080/",
          "height": 35
        }
      },
      "source": [
        "# Agregar elemento a la lista\n",
        "lista.append(4)\n",
        "lista "
      ],
      "execution_count": 6,
      "outputs": [
        {
          "output_type": "execute_result",
          "data": {
            "text/plain": [
              "[1, 2, 3, 4]"
            ]
          },
          "metadata": {
            "tags": []
          },
          "execution_count": 6
        }
      ]
    },
    {
      "cell_type": "code",
      "metadata": {
        "id": "XD6idFvx_OPQ",
        "outputId": "ab76c18c-e67c-4986-a31a-ea26bfbc0dd0",
        "colab": {
          "base_uri": "https://localhost:8080/",
          "height": 35
        }
      },
      "source": [
        "# Limpiar los elemento de la lista\n",
        "lista.clear()\n",
        "lista"
      ],
      "execution_count": 7,
      "outputs": [
        {
          "output_type": "execute_result",
          "data": {
            "text/plain": [
              "[]"
            ]
          },
          "metadata": {
            "tags": []
          },
          "execution_count": 7
        }
      ]
    },
    {
      "cell_type": "code",
      "metadata": {
        "id": "l9DCeQ3n_k0-",
        "outputId": "11bef9d3-29cf-4d8d-a77e-321440fc5bf4",
        "colab": {
          "base_uri": "https://localhost:8080/",
          "height": 35
        }
      },
      "source": [
        "# copiar lista, pero no modifca los valores de la lista\n",
        "lista = [1,2,3]\n",
        "lista2 = lista.copy()\n",
        "lista.append(4)\n",
        "print(lista, lista2)"
      ],
      "execution_count": 9,
      "outputs": [
        {
          "output_type": "stream",
          "text": [
            "[1, 2, 3, 4] [1, 2, 3]\n"
          ],
          "name": "stdout"
        }
      ]
    },
    {
      "cell_type": "code",
      "metadata": {
        "id": "LgcdU1pV_0dw",
        "outputId": "0faa758b-1b47-4b1e-be95-97c8338d591c",
        "colab": {
          "base_uri": "https://localhost:8080/",
          "height": 53
        }
      },
      "source": [
        "# Contar los elementos de la lista, de un elemento seleccionado\n",
        "lista\n",
        "print(lista.count(4))\n",
        "lista = [3,3,3]\n",
        "print(lista.count(3))"
      ],
      "execution_count": 14,
      "outputs": [
        {
          "output_type": "stream",
          "text": [
            "0\n",
            "3\n"
          ],
          "name": "stdout"
        }
      ]
    },
    {
      "cell_type": "code",
      "metadata": {
        "id": "91OwCSL5ALHJ",
        "outputId": "60ff91d4-ad38-42be-d2e7-be311301f9fe",
        "colab": {
          "base_uri": "https://localhost:8080/",
          "height": 35
        }
      },
      "source": [
        "# Contar todos los elementos que se encuentren en la lista \n",
        "lista = [1,2,3];\n",
        "len(lista)"
      ],
      "execution_count": 19,
      "outputs": [
        {
          "output_type": "execute_result",
          "data": {
            "text/plain": [
              "3"
            ]
          },
          "metadata": {
            "tags": []
          },
          "execution_count": 19
        }
      ]
    },
    {
      "cell_type": "code",
      "metadata": {
        "id": "dHONInwuAXrQ",
        "outputId": "33e2bc18-45b4-4d0d-cc4f-318e20097587",
        "colab": {
          "base_uri": "https://localhost:8080/",
          "height": 35
        }
      },
      "source": [
        "print(len(lista), len(lista2) )"
      ],
      "execution_count": 20,
      "outputs": [
        {
          "output_type": "stream",
          "text": [
            "3 3\n"
          ],
          "name": "stdout"
        }
      ]
    },
    {
      "cell_type": "code",
      "metadata": {
        "id": "AWEqEBikBJQF",
        "outputId": "7fc28c0d-7a76-4a1e-af9a-8bd8ce7a24ad",
        "colab": {
          "base_uri": "https://localhost:8080/",
          "height": 35
        }
      },
      "source": [
        "largoLista = len(lista)\n",
        "largoLista2 = len(lista2)\n",
        "print(largoLista, largoLista2)"
      ],
      "execution_count": 21,
      "outputs": [
        {
          "output_type": "stream",
          "text": [
            "3 3\n"
          ],
          "name": "stdout"
        }
      ]
    },
    {
      "cell_type": "code",
      "metadata": {
        "id": "uOz-41SuBZ_y",
        "outputId": "b0e50182-4b08-45f9-8afd-f5188ba9b256",
        "colab": {
          "base_uri": "https://localhost:8080/",
          "height": 71
        }
      },
      "source": [
        "# Acceder a los elementos de la lista\n",
        "lista.clear()\n",
        "lista = ['Hola', 'Mundo', 'Chanchito Feliz']\n",
        "print(lista[0]) # Indice 0 o primero\n",
        "print(lista[1])\n",
        "print(lista[2])"
      ],
      "execution_count": 30,
      "outputs": [
        {
          "output_type": "stream",
          "text": [
            "Hola\n",
            "Mundo\n",
            "Chanchito Feliz\n"
          ],
          "name": "stdout"
        }
      ]
    },
    {
      "cell_type": "code",
      "metadata": {
        "id": "rTGkVeZnBkoJ",
        "outputId": "28e0aa3f-0782-4ad5-abab-229f6f757132",
        "colab": {
          "base_uri": "https://localhost:8080/",
          "height": 71
        }
      },
      "source": [
        "# Eliminar el ultimo elemento de la lista, con la función pop\n",
        "lista = [1,2,3,4]\n",
        "lista.pop() # Elimina el ultimo elemento de la lista 4\n",
        "print(lista)\n",
        "print(lista.pop())\n",
        "print(lista)"
      ],
      "execution_count": 37,
      "outputs": [
        {
          "output_type": "stream",
          "text": [
            "[1, 2, 3]\n",
            "3\n",
            "[1, 2]\n"
          ],
          "name": "stdout"
        }
      ]
    },
    {
      "cell_type": "code",
      "metadata": {
        "id": "iJLx0GTrEj7Q",
        "outputId": "077dd432-d8fc-4704-f91a-8cff1280cb40",
        "colab": {
          "base_uri": "https://localhost:8080/",
          "height": 35
        }
      },
      "source": [
        "# Eliminar un elemento seleccionado con su valor con la función remove\n",
        "lista = [1,2,3,4]\n",
        "lista.remove(2)\n",
        "lista"
      ],
      "execution_count": 39,
      "outputs": [
        {
          "output_type": "execute_result",
          "data": {
            "text/plain": [
              "[1, 3, 4]"
            ]
          },
          "metadata": {
            "tags": []
          },
          "execution_count": 39
        }
      ]
    },
    {
      "cell_type": "code",
      "metadata": {
        "id": "I5Mm56KAFVw8",
        "outputId": "22678df9-ea35-4edc-e8bb-a61561c6de39",
        "colab": {
          "base_uri": "https://localhost:8080/",
          "height": 35
        }
      },
      "source": [
        "# Ordenar de forma inversa \n",
        "lista = [1,2,3,4]\n",
        "lista.reverse()\n",
        "lista"
      ],
      "execution_count": 41,
      "outputs": [
        {
          "output_type": "execute_result",
          "data": {
            "text/plain": [
              "[4, 3, 2, 1]"
            ]
          },
          "metadata": {
            "tags": []
          },
          "execution_count": 41
        }
      ]
    },
    {
      "cell_type": "code",
      "metadata": {
        "id": "CZTe6fBXFv3l",
        "outputId": "f0ff66d0-d765-4ec1-e9dc-3e54d9705cfc",
        "colab": {
          "base_uri": "https://localhost:8080/",
          "height": 35
        }
      },
      "source": [
        "# Ordenar listas, solo se pueden ordenar cuando estas tiene un unico tipo de datos\n",
        "# lista = [3, 'uno', 'cuatro', 3, 2] //Error\n",
        "lista = [3,2,4,5,1,8]\n",
        "lista.sort()\n",
        "lista"
      ],
      "execution_count": 44,
      "outputs": [
        {
          "output_type": "execute_result",
          "data": {
            "text/plain": [
              "[1, 2, 3, 4, 5, 8]"
            ]
          },
          "metadata": {
            "tags": []
          },
          "execution_count": 44
        }
      ]
    },
    {
      "cell_type": "code",
      "metadata": {
        "id": "KFx-lNZpISwU",
        "outputId": "657cd816-3fd3-4615-def2-8effea0b7e4b",
        "colab": {
          "base_uri": "https://localhost:8080/",
          "height": 35
        }
      },
      "source": [
        "# ordenar lista con string\n",
        "lista = ['Hola', 'Mundo', 'Chanchito Feliz', 'Chanchito Triste']\n",
        "lista.sort()\n",
        "lista"
      ],
      "execution_count": 46,
      "outputs": [
        {
          "output_type": "execute_result",
          "data": {
            "text/plain": [
              "['Chanchito Feliz', 'Chanchito Triste', 'Hola', 'Mundo']"
            ]
          },
          "metadata": {
            "tags": []
          },
          "execution_count": 46
        }
      ]
    },
    {
      "cell_type": "code",
      "metadata": {
        "id": "dXNT9Vo_I5Iv"
      },
      "source": [
        ""
      ],
      "execution_count": null,
      "outputs": []
    }
  ]
}