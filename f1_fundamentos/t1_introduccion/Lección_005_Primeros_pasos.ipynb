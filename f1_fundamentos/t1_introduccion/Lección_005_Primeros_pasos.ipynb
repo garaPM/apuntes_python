{
  "nbformat": 4,
  "nbformat_minor": 0,
  "metadata": {
    "kernelspec": {
      "display_name": "Python 3",
      "language": "python",
      "name": "python3"
    },
    "language_info": {
      "codemirror_mode": {
        "name": "ipython",
        "version": 3
      },
      "file_extension": ".py",
      "mimetype": "text/x-python",
      "name": "python",
      "nbconvert_exporter": "python",
      "pygments_lexer": "ipython3",
      "version": "3.5.1"
    },
    "colab": {
      "name": "Lección 005 - Primeros pasos.ipynb",
      "provenance": [],
      "collapsed_sections": [],
      "include_colab_link": true
    }
  },
  "cells": [
    {
      "cell_type": "markdown",
      "metadata": {
        "id": "view-in-github",
        "colab_type": "text"
      },
      "source": [
        "<a href=\"https://colab.research.google.com/github/garaPM/apuntes_python/blob/main/Lecci%C3%B3n_005_Primeros_pasos.ipynb\" target=\"_parent\"><img src=\"https://colab.research.google.com/assets/colab-badge.svg\" alt=\"Open In Colab\"/></a>"
      ]
    },
    {
      "cell_type": "markdown",
      "metadata": {
        "id": "_XnwSRdZJq5i"
      },
      "source": [
        "## Ejemplo de cabecera\n",
        "Intenta deducir qué hace este programa (no hace falta que le des muchas vueltas)."
      ]
    },
    {
      "cell_type": "code",
      "metadata": {
        "id": "QPPFVONGJq5k",
        "outputId": "f07c2871-7516-4406-86ac-6c7dd48d6ace",
        "colab": {
          "base_uri": "https://localhost:8080/",
          "height": 197
        }
      },
      "source": [
        "n = 0\n",
        "while n < 10:  # while = mientras\n",
        "    if (n % 2) == 0: # if = si (de condicion)\n",
        "        print(n,'es un número par')\n",
        "    else:  # else = sino (def condicion)\n",
        "        print(n,'es un número impar')\n",
        "    n = n + 1"
      ],
      "execution_count": null,
      "outputs": [
        {
          "output_type": "stream",
          "text": [
            "0 es un número par\n",
            "1 es un número impar\n",
            "2 es un número par\n",
            "3 es un número impar\n",
            "4 es un número par\n",
            "5 es un número impar\n",
            "6 es un número par\n",
            "7 es un número impar\n",
            "8 es un número par\n",
            "9 es un número impar\n"
          ],
          "name": "stdout"
        }
      ]
    },
    {
      "cell_type": "code",
      "metadata": {
        "id": "Et_PTN_QJtj8"
      },
      "source": [
        ""
      ],
      "execution_count": null,
      "outputs": []
    }
  ]
}