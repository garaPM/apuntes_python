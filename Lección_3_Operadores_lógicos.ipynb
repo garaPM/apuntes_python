{
  "nbformat": 4,
  "nbformat_minor": 0,
  "metadata": {
    "kernelspec": {
      "display_name": "Python 3",
      "language": "python",
      "name": "python3"
    },
    "language_info": {
      "codemirror_mode": {
        "name": "ipython",
        "version": 3
      },
      "file_extension": ".py",
      "mimetype": "text/x-python",
      "name": "python",
      "nbconvert_exporter": "python",
      "pygments_lexer": "ipython3",
      "version": "3.5.1"
    },
    "colab": {
      "name": "Lección 3 (Apuntes) - Operadores lógicos.ipynb",
      "provenance": [],
      "include_colab_link": true
    }
  },
  "cells": [
    {
      "cell_type": "markdown",
      "metadata": {
        "id": "view-in-github",
        "colab_type": "text"
      },
      "source": [
        "<a href=\"https://colab.research.google.com/github/garaPM/apuntes_python/blob/main/Lecci%C3%B3n_3_Operadores_l%C3%B3gicos.ipynb\" target=\"_parent\"><img src=\"https://colab.research.google.com/assets/colab-badge.svg\" alt=\"Open In Colab\"/></a>"
      ]
    },
    {
      "cell_type": "markdown",
      "metadata": {
        "id": "Ci9DUwJRvcRP"
      },
      "source": [
        "# Operadores lógicos\n",
        "Encontramos 3 básicos:\n",
        "- Not\n",
        "- And\n",
        "- Or"
      ]
    },
    {
      "cell_type": "markdown",
      "metadata": {
        "id": "qndc-NZVvcRQ"
      },
      "source": [
        "## Not - Negación lógica"
      ]
    },
    {
      "cell_type": "code",
      "metadata": {
        "id": "punbfU32vcRR",
        "outputId": "7711a037-f209-429f-fe96-fbd007ccc058"
      },
      "source": [
        "not True"
      ],
      "execution_count": null,
      "outputs": [
        {
          "output_type": "execute_result",
          "data": {
            "text/plain": [
              "False"
            ]
          },
          "metadata": {
            "tags": []
          },
          "execution_count": 1
        }
      ]
    },
    {
      "cell_type": "code",
      "metadata": {
        "id": "3kW05jSmvcRX",
        "outputId": "ef98570c-0937-4965-cfa1-74c3f1824a88"
      },
      "source": [
        "not True == False"
      ],
      "execution_count": null,
      "outputs": [
        {
          "output_type": "execute_result",
          "data": {
            "text/plain": [
              "True"
            ]
          },
          "metadata": {
            "tags": []
          },
          "execution_count": 2
        }
      ]
    },
    {
      "cell_type": "markdown",
      "metadata": {
        "id": "4nVddDyTvcRb"
      },
      "source": [
        "## And - Conjunción lógica (agrupa uniendo)"
      ]
    },
    {
      "cell_type": "code",
      "metadata": {
        "id": "pByPdxUsvcRc",
        "outputId": "649d6727-c86a-4154-f97b-fb7e238102a5"
      },
      "source": [
        "True and True"
      ],
      "execution_count": null,
      "outputs": [
        {
          "output_type": "execute_result",
          "data": {
            "text/plain": [
              "True"
            ]
          },
          "metadata": {
            "tags": []
          },
          "execution_count": 3
        }
      ]
    },
    {
      "cell_type": "code",
      "metadata": {
        "id": "TBteLrtWvcRh",
        "outputId": "6023067e-6c6d-429c-864c-a3a04e06b4f8"
      },
      "source": [
        "True and False"
      ],
      "execution_count": null,
      "outputs": [
        {
          "output_type": "execute_result",
          "data": {
            "text/plain": [
              "False"
            ]
          },
          "metadata": {
            "tags": []
          },
          "execution_count": 4
        }
      ]
    },
    {
      "cell_type": "code",
      "metadata": {
        "id": "4odndFoVvcRl",
        "outputId": "a96d6555-5428-4dd4-b06d-0baea8738f61"
      },
      "source": [
        "False and True"
      ],
      "execution_count": null,
      "outputs": [
        {
          "output_type": "execute_result",
          "data": {
            "text/plain": [
              "False"
            ]
          },
          "metadata": {
            "tags": []
          },
          "execution_count": 5
        }
      ]
    },
    {
      "cell_type": "code",
      "metadata": {
        "id": "-fU0ScrQvcRo",
        "outputId": "55ad2ad4-a95f-4366-8351-5b23c14d5b62"
      },
      "source": [
        "False and False"
      ],
      "execution_count": null,
      "outputs": [
        {
          "output_type": "execute_result",
          "data": {
            "text/plain": [
              "False"
            ]
          },
          "metadata": {
            "tags": []
          },
          "execution_count": 6
        }
      ]
    },
    {
      "cell_type": "code",
      "metadata": {
        "id": "XwwuJ_TovcRs",
        "outputId": "13fad672-4df3-4466-d086-249207af007e"
      },
      "source": [
        "a = 45\n",
        "a > 10 and a < 20"
      ],
      "execution_count": null,
      "outputs": [
        {
          "output_type": "execute_result",
          "data": {
            "text/plain": [
              "False"
            ]
          },
          "metadata": {
            "tags": []
          },
          "execution_count": 9
        }
      ]
    },
    {
      "cell_type": "code",
      "metadata": {
        "id": "jPoImrBvvcRy",
        "outputId": "662e778b-0cdc-408a-f99c-943fd9c11747"
      },
      "source": [
        "c = \"Hola Mundo\"\n",
        "len(c) >= 20 and c[0] == \"H\""
      ],
      "execution_count": null,
      "outputs": [
        {
          "output_type": "execute_result",
          "data": {
            "text/plain": [
              "False"
            ]
          },
          "metadata": {
            "tags": []
          },
          "execution_count": 11
        }
      ]
    },
    {
      "cell_type": "markdown",
      "metadata": {
        "id": "8d2pLiQ_vcR2"
      },
      "source": [
        "## Or - Disyunción lógica (agrupa separando)"
      ]
    },
    {
      "cell_type": "code",
      "metadata": {
        "id": "lDtiqNsGvcR2",
        "outputId": "e8fc40fa-01c1-4eb2-d956-46cc28dca117"
      },
      "source": [
        "True or True"
      ],
      "execution_count": null,
      "outputs": [
        {
          "output_type": "execute_result",
          "data": {
            "text/plain": [
              "True"
            ]
          },
          "metadata": {
            "tags": []
          },
          "execution_count": 12
        }
      ]
    },
    {
      "cell_type": "code",
      "metadata": {
        "id": "kEt2IA57vcR6",
        "outputId": "d4eb51f3-0394-43c1-be44-f9b1e1a02c93"
      },
      "source": [
        "True or False"
      ],
      "execution_count": null,
      "outputs": [
        {
          "output_type": "execute_result",
          "data": {
            "text/plain": [
              "True"
            ]
          },
          "metadata": {
            "tags": []
          },
          "execution_count": 13
        }
      ]
    },
    {
      "cell_type": "code",
      "metadata": {
        "id": "HgYGVCJjvcR-",
        "outputId": "67f7bcf2-c47a-4770-d20a-e798bfc54d54"
      },
      "source": [
        "False or True"
      ],
      "execution_count": null,
      "outputs": [
        {
          "output_type": "execute_result",
          "data": {
            "text/plain": [
              "True"
            ]
          },
          "metadata": {
            "tags": []
          },
          "execution_count": 14
        }
      ]
    },
    {
      "cell_type": "code",
      "metadata": {
        "id": "9wOCTv3XvcSF",
        "outputId": "759eda66-cc67-4be1-d9be-84dc96cf266b"
      },
      "source": [
        "False or False"
      ],
      "execution_count": null,
      "outputs": [
        {
          "output_type": "execute_result",
          "data": {
            "text/plain": [
              "False"
            ]
          },
          "metadata": {
            "tags": []
          },
          "execution_count": 15
        }
      ]
    },
    {
      "cell_type": "code",
      "metadata": {
        "id": "cYFzSUYEvcSJ",
        "outputId": "546f58a8-8ccf-4e4f-cb76-dcb49a30fa51"
      },
      "source": [
        "c = \"OTRA COSA\"\n",
        "c == \"EXIT\" or c == \"FIN\" or c == \"SALIR\""
      ],
      "execution_count": null,
      "outputs": [
        {
          "output_type": "execute_result",
          "data": {
            "text/plain": [
              "False"
            ]
          },
          "metadata": {
            "tags": []
          },
          "execution_count": 17
        }
      ]
    },
    {
      "cell_type": "code",
      "metadata": {
        "id": "7VJZ1hJNvcSN",
        "outputId": "f8d5a763-b9be-4b26-bcf2-a8bec009e098"
      },
      "source": [
        "c = \"Lector\"\n",
        "c[0] == \"H\" or c[0] == \"h\""
      ],
      "execution_count": null,
      "outputs": [
        {
          "output_type": "execute_result",
          "data": {
            "text/plain": [
              "False"
            ]
          },
          "metadata": {
            "tags": []
          },
          "execution_count": 20
        }
      ]
    }
  ]
}