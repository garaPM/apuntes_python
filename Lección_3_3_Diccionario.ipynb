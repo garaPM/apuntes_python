{
  "nbformat": 4,
  "nbformat_minor": 0,
  "metadata": {
    "colab": {
      "name": "Lección 3.3 - Diccionario.ipynb",
      "provenance": [],
      "authorship_tag": "ABX9TyNHRjpyqBGpmasOkcVBuwd9",
      "include_colab_link": true
    },
    "kernelspec": {
      "name": "python3",
      "display_name": "Python 3"
    }
  },
  "cells": [
    {
      "cell_type": "markdown",
      "metadata": {
        "id": "view-in-github",
        "colab_type": "text"
      },
      "source": [
        "<a href=\"https://colab.research.google.com/github/garaPM/apuntes_python/blob/main/Lecci%C3%B3n_3_3_Diccionario.ipynb\" target=\"_parent\"><img src=\"https://colab.research.google.com/assets/colab-badge.svg\" alt=\"Open In Colab\"/></a>"
      ]
    },
    {
      "cell_type": "markdown",
      "metadata": {
        "id": "ucVB6XUpRup0"
      },
      "source": [
        "## Diccionario\n",
        "\n",
        "es un tipo de dato bastante similar a lista, en vez de usar indices con número se usa string\n",
        "\n",
        "- se inicializa {}\n",
        "\n"
      ]
    },
    {
      "cell_type": "code",
      "metadata": {
        "id": "jOEIpEWlRpHh"
      },
      "source": [
        "diccionario = {}"
      ],
      "execution_count": 1,
      "outputs": []
    },
    {
      "cell_type": "code",
      "metadata": {
        "id": "Cky4-dE6TBRv",
        "outputId": "a778312a-8b79-4c22-93d7-45eb740521fb",
        "colab": {
          "base_uri": "https://localhost:8080/",
          "height": 35
        }
      },
      "source": [
        "diccionario = {\n",
        "    \"nombre\": \"Chanchito Feliz\",\n",
        "    \"raza\": \"Persa\",\n",
        "    \"edad\": 5\n",
        "}\n",
        "diccionario"
      ],
      "execution_count": 3,
      "outputs": [
        {
          "output_type": "execute_result",
          "data": {
            "text/plain": [
              "{'edad': 5, 'nombre': 'Chanchito Feliz', 'raza': 'Persa'}"
            ]
          },
          "metadata": {
            "tags": []
          },
          "execution_count": 3
        }
      ]
    },
    {
      "cell_type": "code",
      "metadata": {
        "id": "_Td_BtpMTP69",
        "outputId": "6d9eeae1-2f4f-4da9-a7fe-62116f140918",
        "colab": {
          "base_uri": "https://localhost:8080/",
          "height": 36
        }
      },
      "source": [
        "## acceder un valor del diccionario\n",
        "diccionario['nombre']"
      ],
      "execution_count": 4,
      "outputs": [
        {
          "output_type": "execute_result",
          "data": {
            "application/vnd.google.colaboratory.intrinsic+json": {
              "type": "string"
            },
            "text/plain": [
              "'Chanchito Feliz'"
            ]
          },
          "metadata": {
            "tags": []
          },
          "execution_count": 4
        }
      ]
    },
    {
      "cell_type": "code",
      "metadata": {
        "id": "VkDLkiTwTpME",
        "outputId": "990fb7eb-3aa7-4129-ce13-5d635b14a089",
        "colab": {
          "base_uri": "https://localhost:8080/",
          "height": 36
        }
      },
      "source": [
        "diccionario['raza']"
      ],
      "execution_count": 5,
      "outputs": [
        {
          "output_type": "execute_result",
          "data": {
            "application/vnd.google.colaboratory.intrinsic+json": {
              "type": "string"
            },
            "text/plain": [
              "'Persa'"
            ]
          },
          "metadata": {
            "tags": []
          },
          "execution_count": 5
        }
      ]
    },
    {
      "cell_type": "code",
      "metadata": {
        "id": "wp8A0hGtTsiM",
        "outputId": "0900596f-d573-494f-adf7-73b61633a287",
        "colab": {
          "base_uri": "https://localhost:8080/",
          "height": 36
        }
      },
      "source": [
        "diccionario.get('nombre')"
      ],
      "execution_count": 6,
      "outputs": [
        {
          "output_type": "execute_result",
          "data": {
            "application/vnd.google.colaboratory.intrinsic+json": {
              "type": "string"
            },
            "text/plain": [
              "'Chanchito Feliz'"
            ]
          },
          "metadata": {
            "tags": []
          },
          "execution_count": 6
        }
      ]
    },
    {
      "cell_type": "code",
      "metadata": {
        "id": "QylynqSLTySz",
        "outputId": "31786aec-c758-46df-c349-a806dd894a0f",
        "colab": {
          "base_uri": "https://localhost:8080/",
          "height": 35
        }
      },
      "source": [
        "diccionario['nombre'] = 'Fluffy'\n",
        "diccionario"
      ],
      "execution_count": 7,
      "outputs": [
        {
          "output_type": "execute_result",
          "data": {
            "text/plain": [
              "{'edad': 5, 'nombre': 'Fluffy', 'raza': 'Persa'}"
            ]
          },
          "metadata": {
            "tags": []
          },
          "execution_count": 7
        }
      ]
    },
    {
      "cell_type": "code",
      "metadata": {
        "id": "2xEt2fSRUASD",
        "outputId": "5c377174-1502-494c-9f5c-efe66195ed32",
        "colab": {
          "base_uri": "https://localhost:8080/",
          "height": 35
        }
      },
      "source": [
        "len(diccionario)"
      ],
      "execution_count": 8,
      "outputs": [
        {
          "output_type": "execute_result",
          "data": {
            "text/plain": [
              "3"
            ]
          },
          "metadata": {
            "tags": []
          },
          "execution_count": 8
        }
      ]
    },
    {
      "cell_type": "code",
      "metadata": {
        "id": "kVTYCvIdUGRG",
        "outputId": "706d37e9-0cd5-45e4-c94d-5fbe7871e61e",
        "colab": {
          "base_uri": "https://localhost:8080/",
          "height": 35
        }
      },
      "source": [
        "diccionario['ronronea']  = 'Sí'\n",
        "diccionario"
      ],
      "execution_count": 9,
      "outputs": [
        {
          "output_type": "execute_result",
          "data": {
            "text/plain": [
              "{'edad': 5, 'nombre': 'Fluffy', 'raza': 'Persa', 'ronronea': 'Sí'}"
            ]
          },
          "metadata": {
            "tags": []
          },
          "execution_count": 9
        }
      ]
    },
    {
      "cell_type": "markdown",
      "metadata": {
        "id": "kl-tIFXlUV30"
      },
      "source": [
        "## Metodos\n",
        "\n",
        "- pop => elimima registro\n",
        "- popitem\n",
        "- del => elimina registro\n",
        "- copy => copia diccionario\n",
        "- clear\n",
        "- dict => hace una copia del diccionario\n"
      ]
    },
    {
      "cell_type": "code",
      "metadata": {
        "id": "_TaAvgpSUgnp",
        "outputId": "d2ac18b9-3440-4402-be92-ce674c187df8",
        "colab": {
          "base_uri": "https://localhost:8080/",
          "height": 35
        }
      },
      "source": [
        "diccionario.pop('ronronea')\n",
        "diccionario"
      ],
      "execution_count": 10,
      "outputs": [
        {
          "output_type": "execute_result",
          "data": {
            "text/plain": [
              "{'edad': 5, 'nombre': 'Fluffy', 'raza': 'Persa'}"
            ]
          },
          "metadata": {
            "tags": []
          },
          "execution_count": 10
        }
      ]
    },
    {
      "cell_type": "code",
      "metadata": {
        "id": "bJomaMZ5Uuh-",
        "outputId": "9b5451aa-f9e2-4419-ca93-64cb2e680dae",
        "colab": {
          "base_uri": "https://localhost:8080/",
          "height": 35
        }
      },
      "source": [
        "diccionario['ronronea']  = 'Sí'\n",
        "diccionario.popitem()\n",
        "diccionario"
      ],
      "execution_count": 11,
      "outputs": [
        {
          "output_type": "execute_result",
          "data": {
            "text/plain": [
              "{'edad': 5, 'nombre': 'Fluffy', 'raza': 'Persa'}"
            ]
          },
          "metadata": {
            "tags": []
          },
          "execution_count": 11
        }
      ]
    },
    {
      "cell_type": "code",
      "metadata": {
        "id": "9p_1rltJU9VN",
        "outputId": "b1e3feba-e2de-48c7-e086-a26fc5558b19",
        "colab": {
          "base_uri": "https://localhost:8080/",
          "height": 35
        }
      },
      "source": [
        "diccionario['ronronea']  = 'Sí'\n",
        "del diccionario['ronronea']\n",
        "diccionario"
      ],
      "execution_count": 12,
      "outputs": [
        {
          "output_type": "execute_result",
          "data": {
            "text/plain": [
              "{'edad': 5, 'nombre': 'Fluffy', 'raza': 'Persa'}"
            ]
          },
          "metadata": {
            "tags": []
          },
          "execution_count": 12
        }
      ]
    },
    {
      "cell_type": "code",
      "metadata": {
        "id": "SrRSbG8iVR2E",
        "outputId": "c426fa81-9631-431b-c430-359e61608440",
        "colab": {
          "base_uri": "https://localhost:8080/",
          "height": 35
        }
      },
      "source": [
        "copiaGatito = diccionario.copy()\n",
        "copiaGatito"
      ],
      "execution_count": 13,
      "outputs": [
        {
          "output_type": "execute_result",
          "data": {
            "text/plain": [
              "{'edad': 5, 'nombre': 'Fluffy', 'raza': 'Persa'}"
            ]
          },
          "metadata": {
            "tags": []
          },
          "execution_count": 13
        }
      ]
    },
    {
      "cell_type": "code",
      "metadata": {
        "id": "zLjNDVTXVqB9",
        "outputId": "828abf37-5528-47c5-897b-86c0aa80206e",
        "colab": {
          "base_uri": "https://localhost:8080/",
          "height": 35
        }
      },
      "source": [
        "# eliminar los datos\n",
        "diccionario.clear()\n",
        "diccionario"
      ],
      "execution_count": 14,
      "outputs": [
        {
          "output_type": "execute_result",
          "data": {
            "text/plain": [
              "{}"
            ]
          },
          "metadata": {
            "tags": []
          },
          "execution_count": 14
        }
      ]
    },
    {
      "cell_type": "code",
      "metadata": {
        "id": "9vnB5pqRV3q_",
        "outputId": "af4a3151-d79a-4fb6-a464-0d2e0619db4a",
        "colab": {
          "base_uri": "https://localhost:8080/",
          "height": 35
        }
      },
      "source": [
        "# otra forma de copiar seria\n",
        "copiaGatito2 = dict(copiaGatito)\n",
        "copiaGatito2"
      ],
      "execution_count": 15,
      "outputs": [
        {
          "output_type": "execute_result",
          "data": {
            "text/plain": [
              "{'edad': 5, 'nombre': 'Fluffy', 'raza': 'Persa'}"
            ]
          },
          "metadata": {
            "tags": []
          },
          "execution_count": 15
        }
      ]
    },
    {
      "cell_type": "markdown",
      "metadata": {
        "id": "sk4Blge0WVMG"
      },
      "source": [
        "## Diccionario anidados"
      ]
    },
    {
      "cell_type": "code",
      "metadata": {
        "id": "MZEvTU3-WLAf",
        "outputId": "eb6380a4-a62f-4a62-bb4c-b9ad2656a396",
        "colab": {
          "base_uri": "https://localhost:8080/",
          "height": 53
        }
      },
      "source": [
        "gatitos = {\n",
        "    \"Fluffy\": {\n",
        "        \"nombre\": \"Fluffy\",\n",
        "        \"edad\": 4\n",
        "    },\n",
        "    \"Mamba\": {\n",
        "        \"nombre\": \"Black Mamba\",\n",
        "        \"edad\": 12\n",
        "    }\n",
        "}\n",
        "gatitos"
      ],
      "execution_count": 16,
      "outputs": [
        {
          "output_type": "execute_result",
          "data": {
            "text/plain": [
              "{'Fluffy': {'edad': 4, 'nombre': 'Fluffy'},\n",
              " 'Mamba': {'edad': 12, 'nombre': 'Black Mamba'}}"
            ]
          },
          "metadata": {
            "tags": []
          },
          "execution_count": 16
        }
      ]
    },
    {
      "cell_type": "code",
      "metadata": {
        "id": "HiWZjevVWuwl",
        "outputId": "08b3819c-2b9a-4ba9-a9e8-c26b7f16098c",
        "colab": {
          "base_uri": "https://localhost:8080/",
          "height": 53
        }
      },
      "source": [
        "gatitos.clear()\n",
        "fluffy = {\n",
        "        \"nombre\": \"Fluffy\",\n",
        "        \"edad\": 4\n",
        "}\n",
        "mamba = {\n",
        "        \"nombre\": \"Black Mamba\",\n",
        "        \"edad\": 12\n",
        "}\n",
        "gatitos = {\n",
        "    \"Fluffy\": fluffy,\n",
        "    \"Mamba\": mamba \n",
        "}\n",
        "gatitos\n"
      ],
      "execution_count": 17,
      "outputs": [
        {
          "output_type": "execute_result",
          "data": {
            "text/plain": [
              "{'Fluffy': {'edad': 4, 'nombre': 'Fluffy'},\n",
              " 'Mamba': {'edad': 12, 'nombre': 'Black Mamba'}}"
            ]
          },
          "metadata": {
            "tags": []
          },
          "execution_count": 17
        }
      ]
    },
    {
      "cell_type": "code",
      "metadata": {
        "id": "Qc13uhbLXR1A",
        "outputId": "ca9ce532-a519-4d07-cc2e-a1b537013e7c",
        "colab": {
          "base_uri": "https://localhost:8080/",
          "height": 35
        }
      },
      "source": [
        "perritos = dict(nombre=\"Boomber\", edad=6)\n",
        "perritos"
      ],
      "execution_count": 19,
      "outputs": [
        {
          "output_type": "execute_result",
          "data": {
            "text/plain": [
              "{'edad': 6, 'nombre': 'Boomber'}"
            ]
          },
          "metadata": {
            "tags": []
          },
          "execution_count": 19
        }
      ]
    },
    {
      "cell_type": "code",
      "metadata": {
        "id": "UPe4OjMjXoTt"
      },
      "source": [
        ""
      ],
      "execution_count": null,
      "outputs": []
    }
  ]
}