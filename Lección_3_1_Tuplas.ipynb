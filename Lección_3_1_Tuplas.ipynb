{
  "nbformat": 4,
  "nbformat_minor": 0,
  "metadata": {
    "kernelspec": {
      "display_name": "Python 3",
      "language": "python",
      "name": "python3"
    },
    "language_info": {
      "codemirror_mode": {
        "name": "ipython",
        "version": 3
      },
      "file_extension": ".py",
      "mimetype": "text/x-python",
      "name": "python",
      "nbconvert_exporter": "python",
      "pygments_lexer": "ipython3",
      "version": "3.5.1"
    },
    "colab": {
      "name": "Lección 3.1 - Tuplas.ipynb",
      "provenance": [],
      "include_colab_link": true
    }
  },
  "cells": [
    {
      "cell_type": "markdown",
      "metadata": {
        "id": "view-in-github",
        "colab_type": "text"
      },
      "source": [
        "<a href=\"https://colab.research.google.com/github/garaPM/apuntes_python/blob/main/Lecci%C3%B3n_3_1_Tuplas.ipynb\" target=\"_parent\"><img src=\"https://colab.research.google.com/assets/colab-badge.svg\" alt=\"Open In Colab\"/></a>"
      ]
    },
    {
      "cell_type": "markdown",
      "metadata": {
        "id": "5D_J6E1WOZk1"
      },
      "source": [
        "\n",
        "## Tuplas\n",
        "son tipos de collecciones\n",
        "\n",
        "- No son modificar\n",
        "- se crean con ()"
      ]
    },
    {
      "cell_type": "code",
      "metadata": {
        "id": "chwn3Ga0N28y",
        "outputId": "e0778b1a-d540-468b-cbe1-4682a39f98ca",
        "colab": {
          "base_uri": "https://localhost:8080/",
          "height": 35
        }
      },
      "source": [
        "tupla = ('Hola', 'mundo', 'somos', 'tuplas')\n",
        "tupla\n"
      ],
      "execution_count": 1,
      "outputs": [
        {
          "output_type": "execute_result",
          "data": {
            "text/plain": [
              "('Hola', 'mundo', 'somos', 'tuplas')"
            ]
          },
          "metadata": {
            "tags": []
          },
          "execution_count": 1
        }
      ]
    },
    {
      "cell_type": "markdown",
      "metadata": {
        "id": "5nn_DctzPZ8w"
      },
      "source": [
        "## Funciones\n",
        "- Count\n",
        "- index\n"
      ]
    },
    {
      "cell_type": "code",
      "metadata": {
        "id": "UbcTY2s-OlOV",
        "outputId": "83bf505e-2b1a-4286-b436-006d18e97246",
        "colab": {
          "base_uri": "https://localhost:8080/",
          "height": 35
        }
      },
      "source": [
        "# metodo count\n",
        "tupla.count('8')"
      ],
      "execution_count": 2,
      "outputs": [
        {
          "output_type": "execute_result",
          "data": {
            "text/plain": [
              "0"
            ]
          },
          "metadata": {
            "tags": []
          },
          "execution_count": 2
        }
      ]
    },
    {
      "cell_type": "code",
      "metadata": {
        "id": "yF1rDqtDOx7z",
        "outputId": "d6b20222-d617-4edd-ad44-dc7a36d7a977",
        "colab": {
          "base_uri": "https://localhost:8080/",
          "height": 35
        }
      },
      "source": [
        "# método index, dara como resultado la posición de un elemento a buscar\n",
        "tupla.index('mundo')"
      ],
      "execution_count": 3,
      "outputs": [
        {
          "output_type": "execute_result",
          "data": {
            "text/plain": [
              "1"
            ]
          },
          "metadata": {
            "tags": []
          },
          "execution_count": 3
        }
      ]
    },
    {
      "cell_type": "code",
      "metadata": {
        "id": "CP_c1LfiO8dL",
        "outputId": "feb248fb-13b2-4482-d2ca-a3485ee0eb67",
        "colab": {
          "base_uri": "https://localhost:8080/",
          "height": 35
        }
      },
      "source": [
        "print(tupla[0])"
      ],
      "execution_count": 4,
      "outputs": [
        {
          "output_type": "stream",
          "text": [
            "Hola\n"
          ],
          "name": "stdout"
        }
      ]
    },
    {
      "cell_type": "markdown",
      "metadata": {
        "id": "KMtyrujUP7lg"
      },
      "source": [
        "## Transformar una Tupla a una lista\n",
        "\n",
        "lista = list(tupla)"
      ]
    },
    {
      "cell_type": "code",
      "metadata": {
        "id": "wF3lRURBPsDV",
        "outputId": "beb62144-2f84-404f-ae5d-7a75d3cba832",
        "colab": {
          "base_uri": "https://localhost:8080/",
          "height": 35
        }
      },
      "source": [
        "listaDeTupla = list(tupla) # Transforma una tupla a un lista\n",
        "listaDeTupla.append('chanchito')\n",
        "listaDeTupla"
      ],
      "execution_count": 7,
      "outputs": [
        {
          "output_type": "execute_result",
          "data": {
            "text/plain": [
              "['Hola', 'mundo', 'somos', 'tuplas', 'chanchito']"
            ]
          },
          "metadata": {
            "tags": []
          },
          "execution_count": 7
        }
      ]
    },
    {
      "cell_type": "code",
      "metadata": {
        "id": "-I3qfueMQOvW"
      },
      "source": [
        ""
      ],
      "execution_count": null,
      "outputs": []
    }
  ]
}